{
  "nbformat": 4,
  "nbformat_minor": 0,
  "metadata": {
    "colab": {
      "name": "mainanalysis.ipynb",
      "provenance": [],
      "include_colab_link": true
    },
    "kernelspec": {
      "name": "python3",
      "display_name": "Python 3"
    }
  },
  "cells": [
    {
      "cell_type": "markdown",
      "metadata": {
        "id": "view-in-github",
        "colab_type": "text"
      },
      "source": [
        "<a href=\"https://colab.research.google.com/github/harditsingh/IntroDataScience/blob/master/mainanalysis.ipynb\" target=\"_parent\"><img src=\"https://colab.research.google.com/assets/colab-badge.svg\" alt=\"Open In Colab\"/></a>"
      ]
    },
    {
      "cell_type": "markdown",
      "metadata": {
        "id": "pQ3fhEe_cFtn",
        "colab_type": "text"
      },
      "source": [
        "#Kickstarter Data Analysis Project"
      ]
    },
    {
      "cell_type": "code",
      "metadata": {
        "id": "gp9OM11acVy_",
        "colab_type": "code",
        "colab": {}
      },
      "source": [
        "import pandas as pd\n",
        "import seaborn as sns\n",
        "import numpy as np\n",
        "\n",
        "import matplotlib.pyplot as plt\n",
        "%matplotlib inline\n",
        "\n",
        "from matplotlib.pylab import rcParams\n",
        "rcParams['figure.figsize'] = 16, 8\n",
        "\n",
        "from scipy.stats import norm\n",
        "from scipy import stats\n",
        "\n",
        "from sklearn.preprocessing import StandardScaler\n",
        "from sklearn.model_selection import train_test_split\n",
        "from sklearn.linear_model import LinearRegression\n",
        "\n",
        "import statsmodels.api as sm\n",
        "from statsmodels.stats.contingency_tables import mcnemar\n",
        "\n",
        "import warnings\n",
        "warnings.filterwarnings('ignore')"
      ],
      "execution_count": 0,
      "outputs": []
    },
    {
      "cell_type": "code",
      "metadata": {
        "id": "4Rsk1OMVce-7",
        "colab_type": "code",
        "colab": {
          "base_uri": "https://localhost:8080/",
          "height": 530
        },
        "outputId": "5cc56ee8-979b-4b7a-cde8-53b78a677ad9"
      },
      "source": [
        "df_train = pd.read_csv('https://raw.githubusercontent.com/harditsingh/IntroDataScience/master/Kickstarter%20Project/KS_train_data.csv', delimiter=',')\n",
        "\n",
        "df_test = pd.read_csv('https://raw.githubusercontent.com/harditsingh/IntroDataScience/master/Kickstarter%20Project/KS_test_data.csv', delimiter=',')\n",
        "\n",
        "df_train.head()"
      ],
      "execution_count": 4,
      "outputs": [
        {
          "output_type": "execute_result",
          "data": {
            "text/html": [
              "<div>\n",
              "<style scoped>\n",
              "    .dataframe tbody tr th:only-of-type {\n",
              "        vertical-align: middle;\n",
              "    }\n",
              "\n",
              "    .dataframe tbody tr th {\n",
              "        vertical-align: top;\n",
              "    }\n",
              "\n",
              "    .dataframe thead th {\n",
              "        text-align: right;\n",
              "    }\n",
              "</style>\n",
              "<table border=\"1\" class=\"dataframe\">\n",
              "  <thead>\n",
              "    <tr style=\"text-align: right;\">\n",
              "      <th></th>\n",
              "      <th>project_id</th>\n",
              "      <th>backers_count</th>\n",
              "      <th>blurb</th>\n",
              "      <th>category</th>\n",
              "      <th>converted_pledged_amount</th>\n",
              "      <th>country</th>\n",
              "      <th>created_at</th>\n",
              "      <th>currency</th>\n",
              "      <th>deadline</th>\n",
              "      <th>fx_rate</th>\n",
              "      <th>goal</th>\n",
              "      <th>launched_at</th>\n",
              "      <th>name</th>\n",
              "      <th>pledged</th>\n",
              "      <th>staff_pick</th>\n",
              "      <th>usd_pledged</th>\n",
              "      <th>location</th>\n",
              "      <th>funded</th>\n",
              "      <th>subcategory</th>\n",
              "      <th>project_url</th>\n",
              "      <th>reward_url</th>\n",
              "    </tr>\n",
              "  </thead>\n",
              "  <tbody>\n",
              "    <tr>\n",
              "      <th>0</th>\n",
              "      <td>KS_000000</td>\n",
              "      <td>80</td>\n",
              "      <td>I will be an artist-in-residence at Elsewhere ...</td>\n",
              "      <td>art</td>\n",
              "      <td>3596</td>\n",
              "      <td>US</td>\n",
              "      <td>1325980505</td>\n",
              "      <td>USD</td>\n",
              "      <td>1334866560</td>\n",
              "      <td>1.0</td>\n",
              "      <td>2800.0</td>\n",
              "      <td>1332969260</td>\n",
              "      <td>Elsewhere Studios artist-in-residency program!</td>\n",
              "      <td>3596.0</td>\n",
              "      <td>False</td>\n",
              "      <td>3596.0</td>\n",
              "      <td>Paonia, CO</td>\n",
              "      <td>True</td>\n",
              "      <td>mixed media</td>\n",
              "      <td>https://www.kickstarter.com/projects/hilaryeme...</td>\n",
              "      <td>https://www.kickstarter.com/projects/hilaryeme...</td>\n",
              "    </tr>\n",
              "    <tr>\n",
              "      <th>1</th>\n",
              "      <td>KS_000001</td>\n",
              "      <td>82</td>\n",
              "      <td>1000 Artists is a public art-making installati...</td>\n",
              "      <td>art</td>\n",
              "      <td>4586</td>\n",
              "      <td>US</td>\n",
              "      <td>1330926084</td>\n",
              "      <td>USD</td>\n",
              "      <td>1336440145</td>\n",
              "      <td>1.0</td>\n",
              "      <td>4500.0</td>\n",
              "      <td>1332984145</td>\n",
              "      <td>1000 Artists: Presidential Inauguration 2013</td>\n",
              "      <td>4586.0</td>\n",
              "      <td>False</td>\n",
              "      <td>4586.0</td>\n",
              "      <td>Washington, DC</td>\n",
              "      <td>True</td>\n",
              "      <td>public art</td>\n",
              "      <td>https://www.kickstarter.com/projects/17146650/...</td>\n",
              "      <td>https://www.kickstarter.com/projects/17146650/...</td>\n",
              "    </tr>\n",
              "    <tr>\n",
              "      <th>2</th>\n",
              "      <td>KS_000002</td>\n",
              "      <td>21</td>\n",
              "      <td>The Sequel to ‘My Favorite Machine”, \"MyPhoneH...</td>\n",
              "      <td>art</td>\n",
              "      <td>5217</td>\n",
              "      <td>US</td>\n",
              "      <td>1332382894</td>\n",
              "      <td>USD</td>\n",
              "      <td>1338175739</td>\n",
              "      <td>1.0</td>\n",
              "      <td>5000.0</td>\n",
              "      <td>1332991739</td>\n",
              "      <td>MyPhoneHenge</td>\n",
              "      <td>5217.0</td>\n",
              "      <td>False</td>\n",
              "      <td>5217.0</td>\n",
              "      <td>Frisco, TX</td>\n",
              "      <td>True</td>\n",
              "      <td>sculpture</td>\n",
              "      <td>https://www.kickstarter.com/projects/belveal/m...</td>\n",
              "      <td>https://www.kickstarter.com/projects/belveal/m...</td>\n",
              "    </tr>\n",
              "    <tr>\n",
              "      <th>3</th>\n",
              "      <td>KS_000003</td>\n",
              "      <td>37</td>\n",
              "      <td>A film exploring the role and value of art edu...</td>\n",
              "      <td>art</td>\n",
              "      <td>7160</td>\n",
              "      <td>GB</td>\n",
              "      <td>1332342451</td>\n",
              "      <td>USD</td>\n",
              "      <td>1334806096</td>\n",
              "      <td>1.0</td>\n",
              "      <td>6500.0</td>\n",
              "      <td>1332991696</td>\n",
              "      <td>Walk-Through</td>\n",
              "      <td>7160.0</td>\n",
              "      <td>False</td>\n",
              "      <td>7160.0</td>\n",
              "      <td>Glasgow, UK</td>\n",
              "      <td>True</td>\n",
              "      <td>art</td>\n",
              "      <td>https://www.kickstarter.com/projects/107813091...</td>\n",
              "      <td>https://www.kickstarter.com/projects/107813091...</td>\n",
              "    </tr>\n",
              "    <tr>\n",
              "      <th>4</th>\n",
              "      <td>KS_000004</td>\n",
              "      <td>153</td>\n",
              "      <td>We need to build a kitchen for Habitable Space...</td>\n",
              "      <td>art</td>\n",
              "      <td>15445</td>\n",
              "      <td>US</td>\n",
              "      <td>1328562617</td>\n",
              "      <td>USD</td>\n",
              "      <td>1335584240</td>\n",
              "      <td>1.0</td>\n",
              "      <td>15000.0</td>\n",
              "      <td>1332992240</td>\n",
              "      <td>A kitchen for Habitable Spaces</td>\n",
              "      <td>15445.0</td>\n",
              "      <td>False</td>\n",
              "      <td>15445.0</td>\n",
              "      <td>Kingsbury, TX</td>\n",
              "      <td>True</td>\n",
              "      <td>public art</td>\n",
              "      <td>https://www.kickstarter.com/projects/104409276...</td>\n",
              "      <td>https://www.kickstarter.com/projects/104409276...</td>\n",
              "    </tr>\n",
              "  </tbody>\n",
              "</table>\n",
              "</div>"
            ],
            "text/plain": [
              "  project_id  ...                                         reward_url\n",
              "0  KS_000000  ...  https://www.kickstarter.com/projects/hilaryeme...\n",
              "1  KS_000001  ...  https://www.kickstarter.com/projects/17146650/...\n",
              "2  KS_000002  ...  https://www.kickstarter.com/projects/belveal/m...\n",
              "3  KS_000003  ...  https://www.kickstarter.com/projects/107813091...\n",
              "4  KS_000004  ...  https://www.kickstarter.com/projects/104409276...\n",
              "\n",
              "[5 rows x 21 columns]"
            ]
          },
          "metadata": {
            "tags": []
          },
          "execution_count": 4
        }
      ]
    },
    {
      "cell_type": "markdown",
      "metadata": {
        "id": "UHi6RDD3c_TC",
        "colab_type": "text"
      },
      "source": [
        "There is a big issue with the data. The blurb basically has the description of a particular project. The description might have a comma somewhere in between. Now, the dataset is a CSV set, and it uses comma to separate each column on every row. On some rows, the comma in the blurb will be considered as a column separator and would split up the data incorrectly. Case in point, the following example:"
      ]
    },
    {
      "cell_type": "code",
      "metadata": {
        "id": "6Xb7FCQYeKY9",
        "colab_type": "code",
        "colab": {
          "base_uri": "https://localhost:8080/",
          "height": 202
        },
        "outputId": "5598ac59-9f57-496c-a157-2b24dac0865e"
      },
      "source": [
        "df_train[df_train['project_id'] == 'KS_004834']"
      ],
      "execution_count": 5,
      "outputs": [
        {
          "output_type": "execute_result",
          "data": {
            "text/html": [
              "<div>\n",
              "<style scoped>\n",
              "    .dataframe tbody tr th:only-of-type {\n",
              "        vertical-align: middle;\n",
              "    }\n",
              "\n",
              "    .dataframe tbody tr th {\n",
              "        vertical-align: top;\n",
              "    }\n",
              "\n",
              "    .dataframe thead th {\n",
              "        text-align: right;\n",
              "    }\n",
              "</style>\n",
              "<table border=\"1\" class=\"dataframe\">\n",
              "  <thead>\n",
              "    <tr style=\"text-align: right;\">\n",
              "      <th></th>\n",
              "      <th>project_id</th>\n",
              "      <th>backers_count</th>\n",
              "      <th>blurb</th>\n",
              "      <th>category</th>\n",
              "      <th>converted_pledged_amount</th>\n",
              "      <th>country</th>\n",
              "      <th>created_at</th>\n",
              "      <th>currency</th>\n",
              "      <th>deadline</th>\n",
              "      <th>fx_rate</th>\n",
              "      <th>goal</th>\n",
              "      <th>launched_at</th>\n",
              "      <th>name</th>\n",
              "      <th>pledged</th>\n",
              "      <th>staff_pick</th>\n",
              "      <th>usd_pledged</th>\n",
              "      <th>location</th>\n",
              "      <th>funded</th>\n",
              "      <th>subcategory</th>\n",
              "      <th>project_url</th>\n",
              "      <th>reward_url</th>\n",
              "    </tr>\n",
              "  </thead>\n",
              "  <tbody>\n",
              "    <tr>\n",
              "      <th>4834</th>\n",
              "      <td>KS_004834</td>\n",
              "      <td>8</td>\n",
              "      <td>Come join a living music project, where life e...</td>\n",
              "      <td>art</td>\n",
              "      <td>261</td>\n",
              "      <td>US</td>\n",
              "      <td>1373520277</td>\n",
              "      <td>USD</td>\n",
              "      <td>1378018740</td>\n",
              "      <td>1.0</td>\n",
              "      <td>7500.0</td>\n",
              "      <td>1375501330</td>\n",
              "      <td>Project \"CosPLAY\": Where Cosplay Meets Music!</td>\n",
              "      <td>261.0</td>\n",
              "      <td>False</td>\n",
              "      <td>261.0</td>\n",
              "      <td>Los Angeles, CA</td>\n",
              "      <td>False</td>\n",
              "      <td>mixed media</td>\n",
              "      <td>https://www.kickstarter.com/projects/mrsunligh...</td>\n",
              "      <td>https://www.kickstarter.com/projects/mrsunligh...</td>\n",
              "    </tr>\n",
              "  </tbody>\n",
              "</table>\n",
              "</div>"
            ],
            "text/plain": [
              "     project_id  ...                                         reward_url\n",
              "4834  KS_004834  ...  https://www.kickstarter.com/projects/mrsunligh...\n",
              "\n",
              "[1 rows x 21 columns]"
            ]
          },
          "metadata": {
            "tags": []
          },
          "execution_count": 5
        }
      ]
    },
    {
      "cell_type": "markdown",
      "metadata": {
        "id": "th98yl2JeYze",
        "colab_type": "text"
      },
      "source": [
        ""
      ]
    }
  ]
}